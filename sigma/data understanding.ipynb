{
 "cells": [
  {
   "cell_type": "markdown",
   "metadata": {},
   "source": [
    "# Two sigma\n",
    "\n",
    "## Data\n",
    "### Data Description "
   ]
  },
  {
   "cell_type": "markdown",
   "metadata": {},
   "source": [
    "미래 주가를 예측하기! \n",
    "\n",
    "1. market data -  financial market information 이 있다. \n",
    "(opening price, closing price, trading volume, calculated returns. 등등\n",
    "2. News data - 자산에 대해 출판된 뉴스 articlces/alerts에 대한 정보가 있다. \n",
    "(article details, sentiment, and other commentary)\n",
    "\n",
    "각 asset은 <assetCode> 에 의해 구분된다. \n",
    "(하나의 회사가 여러개의 assetCode를 가질 수 있다)\n",
    "원하는 것에 따라 <assetCode>, <assetName>, 또는 <time> 를 이용해서 market data를 news data와 join 할 수 있음\n",
    "\n",
    "이건 Kernels-only, time-based 경쟁이기 때문에,직접적으로 데이터 파일과 상호작용하지 않는다. 보통의 캐글 컴페티션에서처럼. \n",
    "\n",
    "<submission instructions 에 언급해야한다 디테일에 대해서 어떻게 데이터를 불러들여오고, 예측을 만들내는지. \n",
    "\n",
    "instructions에 언급한 것 처럼 synthetic future data를 만나게 될 것이다. 이것은 volume, timeline그리고 실제 미래 데이터가 도입되는 computational burden 을 작동시키는데 포함된다. \n",
    "\n",
    "custom python module은 또한 예측을 위해 어떤 단계가 필요한지 이해하는 것을 단순하게 만들어준다. 어떤 assetCodes 어떤 시간에, \n"
   ]
  },
  {
   "cell_type": "markdown",
   "metadata": {},
   "source": [
    "#### Market data\n",
    "- The data includes a subset of US-listed instruments.\n",
    "- 이 데이터는 US 리스트 조직의 하위를 포함한다. \n",
    "- The set of included instruments changes daily and is determined based on the amount traded and the availability of information. \n",
    "- 포함된 조직은 매일 변화하고 정보의 접근가능성과 트레이드의 양에 기반하여 결정된다. \n",
    "- This means that there may be instruments that enter and leave this subset of data.\n",
    "- 즉 기구들은 데이터 서브셋에 들어오기도 나가기도 한다. \n",
    "- There may therefore be gaps in the data provided, and this does not necessarily imply that that data does nnot exist (those rows are likely not included due to the selecction criteria)\n",
    "- 따라서 제공된 데이터에는 차이가 있을 수 있고 이것이 반드시 내포하는것은 아니다 그 데이터가 존재하지 않는다는것을. (선택 기준에 따라 포함되지 않았을 가능성이 있다. )\n",
    "- marketdata는 서로 다른 기간동안 계산된 다양한 결과를 포함한다. 모든 결과는 다음의 특성을 지닌다. : \n",
    "\n",
    "- Returns 는 항상 open to open/ close to close 으로 계산되었다. ( opening time/ closing time )\n",
    "- Returns 는 raw, meaning 하다. 그리고 그것은 데이터는 어떤 벤치마킹이나 시장잔차들에 대응하여 조절되지 않는다. 이것은 마켓의 전체 움직임이 계산된다는 것을 의미하면서, 오직 이 기구 자체적인 움직임만 남기고.\n",
    "- Returns는 임의적인 간격을 두고 계산될 수 있다. (여기는 1일, 10일이 제공되었다.)\n",
    "- Returns 는 \"Prev\"/\"Next\" 로 태깅되어있다. \n",
    "\n",
    "##### Columns : \n",
    "- ``` time``` : 현재 시간\n",
    "- ``` assetCode``` (object) : a unique id of an asset\n",
    "- ``` assetName``` (category) : assetCodes의 그룹과 상응하는이름.(assetCode가 news data 에 없으면 Unknown\"\n",
    "\n"
   ]
  },
  {
   "cell_type": "code",
   "execution_count": null,
   "metadata": {},
   "outputs": [],
   "source": []
  },
  {
   "cell_type": "code",
   "execution_count": null,
   "metadata": {},
   "outputs": [],
   "source": []
  }
 ],
 "metadata": {
  "kernelspec": {
   "display_name": "Python 3",
   "language": "python",
   "name": "python3"
  },
  "language_info": {
   "codemirror_mode": {
    "name": "ipython",
    "version": 3
   },
   "file_extension": ".py",
   "mimetype": "text/x-python",
   "name": "python",
   "nbconvert_exporter": "python",
   "pygments_lexer": "ipython3",
   "version": "3.6.5"
  }
 },
 "nbformat": 4,
 "nbformat_minor": 2
}
