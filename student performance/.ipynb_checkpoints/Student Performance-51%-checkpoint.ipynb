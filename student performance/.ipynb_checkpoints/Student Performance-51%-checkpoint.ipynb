{
 "cells": [
  {
   "cell_type": "markdown",
   "metadata": {},
   "source": [
    "# Student Performance Anaylsis\n",
    "\n",
    "제출기한 금요일\n",
    "\n",
    "\n",
    "## Goal\n",
    "The goal of assignment 1 is to practice data preprocessing and classification through a\n",
    "Kaggle InClass Competition. You are expected to understand how Kaggle works and\n",
    "how you can improve your classification model’s performance.\n",
    "\n",
    "## Task\n",
    "You are provided with a classification dataset and your task is to build a series of\n",
    "models with the goal of improving the performance. You can use any data\n",
    "preprocessing technique and classification method.\n",
    "\n",
    "## Data description\n",
    "A detailed description is available at\n",
    "https://archive.ics.uci.edu/ml/datasets/student+performance\n",
    "The dataset used in the assignment 1 is a slightly modified version with 30 features and 1 categorical target variable. The goal is to use the 30 features and classify each\n",
    "student into one of the FIVE categories.\n",
    "\n",
    "## How\n",
    "1. Go to https://www.kaggle.com/t/9f9472665a4747cf8f15d1dd9cea1261 and createan account if you don’t have.\n",
    "2. Go to Data tab and download data files.\n",
    "\n",
    "    - X_train.csv: 264 samples, 30 features (Id should not be counted as a feature)\n",
    "    - y_train.csv: 264 samples, 1 target (from 1 to 5, each number represents a category)\n",
    "    - X_test.csv: 131 samples, 30 features (the dataset you test your model) \n",
    "    - sample_submission.csv: This is a sample submission file and when you submit your classification result for X_test, your final submission file should have the same format. It is a csv file with two columns Id and Category. Because it is a sample submission file, it has only 9 samples. The final submission file should have 131 samples (the same as X_test) with two columns Id and Category. Id column in your submission file is from X_test, and Category column should include your precited results (i.e., 1 or 2 or 3 or 4, or 5). After you do the prediction, you should generate an output file that has the same format with sample_sbmission.csv and submit it to the Kaggle. The file name can be arbitrary.\n",
    "3.  After submitting the result file. you will be able to see the score. The evaluation method is simple classification accuracy.\n",
    "4. Try to improve the score by testing different preprocessing and classification methods. You are allowed to submit up to 20 times a day.\n",
    "\n",
    "## Deliverable\n",
    "One-page short summary on\n",
    "\n",
    "- Your Kaggle account\n",
    "- How many submissions have you tried to improve the performance?\n",
    "- What methods have you tried?\n",
    "- Did the methods improve the performance? Why or Why not?\n",
    "- Please explain your best solution with the highest score (e.g., what classification method + how you preprocessed the data)\n",
    "- What have you learned from the competition?\n",
    "\n",
    "## IMPORTANT\n",
    "1. You don’t need to use your real name for the Kaggle account because the goal of the competition is to compete with yourselves, not with your peers.\n",
    "2. The assignment will not be graded based on the Kaggle score. The assignment will be evaluated based on your one-page summary. Please write it carefully so that I can evaluate your efforts.\n",
    "3. As I already disclosed the data source, you can find the correct answers easily on the web. Any attempts to artificially make submission files using correct answers will be regarded as PLAGIARISM.\n",
    "4. If you have questions on reading the dataset and generating the submission files you can ask me or your peers. However, solutions should be your own. "
   ]
  },
  {
   "cell_type": "markdown",
   "metadata": {},
   "source": [
    "## REF : \n",
    "- [깃헙](https://github.com/sachanganesh/student-performance-prediction/blob/master/model.py)\n",
    "- [타이타닉 예제](https://www.kaggle.com/nadintamer/titanic-survival-predictions-beginner)\n",
    "- [판다스 요용한 전처리 함수](http://rfriend.tistory.com/tag/pd.get_dummies%28%29%20%EB%A5%BC%20%EC%9D%B4%EC%9A%A9%ED%95%B4%20%EA%B0%80%EB%B3%80%EC%88%98%28dummy%20var%29%20%EB%A7%8C%EB%93%A4%EA%B8%B0)\n"
   ]
  },
  {
   "cell_type": "markdown",
   "metadata": {},
   "source": [
    "## 1. Understanding train and test dataset\n",
    "### Data Dictionary\n",
    "Attribute Information:\n",
    "\n",
    "- Attributes for both student-mat.csv (Math course) and student-por.csv "
   ]
  },
  {
   "cell_type": "raw",
   "metadata": {},
   "source": [
    "Attribute Information:\n",
    "- Attributes for both student-mat.csv (Math course) and student-por.csv (Portuguese language course) datasets: \n",
    "1 school - student's school (binary: 'GP' - Gabriel Pereira or 'MS' - Mousinho da Silveira) \n",
    "2 sex - student's sex (binary: 'F' - female or 'M' - male) \n",
    "3 age - student's age (numeric: from 15 to 22) \n",
    "4 address - student's home address type (binary: 'U' - urban or 'R' - rural) \n",
    "5 famsize - family size (binary: 'LE3' - less or equal to 3 or 'GT3' - greater than 3) \n",
    "6 Pstatus - parent's cohabitation status (binary: 'T' - living together or 'A' - apart) \n",
    "7 Medu - mother's education (numeric: 0 - none, 1 - primary education (4th grade), 2 â€“ 5th to 9th grade, 3 â€“ secondary education or 4 â€“ higher education) \n",
    "8 Fedu - father's education (numeric: 0 - none, 1 - primary education (4th grade), 2 â€“ 5th to 9th grade, 3 â€“ secondary education or 4 â€“ higher education) \n",
    "9 Mjob - mother's job (nominal: 'teacher', 'health' care related, civil 'services' (e.g. administrative or police), 'at_home' or 'other') \n",
    "10 Fjob - father's job (nominal: 'teacher', 'health' care related, civil 'services' (e.g. administrative or police), 'at_home' or 'other') \n",
    "11 reason - reason to choose this school (nominal: close to 'home', school 'reputation', 'course' preference or 'other') \n",
    "12 guardian - student's guardian (nominal: 'mother', 'father' or 'other') \n",
    "13 traveltime - home to school travel time (numeric: 1 - <15 min., 2 - 15 to 30 min., 3 - 30 min. to 1 hour, or 4 - >1 hour) \n",
    "14 studytime - weekly study time (numeric: 1 - <2 hours, 2 - 2 to 5 hours, 3 - 5 to 10 hours, or 4 - >10 hours) \n",
    "15 failures - number of past class failures (numeric: n if 1<=n<3, else 4) \n",
    "16 schoolsup - extra educational support (binary: yes or no) \n",
    "17 famsup - family educational support (binary: yes or no) \n",
    "18 paid - extra paid classes within the course subject (Math or Portuguese) (binary: yes or no) \n",
    "19 activities - extra-curricular activities (binary: yes or no) \n",
    "20 nursery - attended nursery school (binary: yes or no) \n",
    "21 higher - wants to take higher education (binary: yes or no) \n",
    "22 internet - Internet access at home (binary: yes or no) \n",
    "23 romantic - with a romantic relationship (binary: yes or no) \n",
    "24 famrel - quality of family relationships (numeric: from 1 - very bad to 5 - excellent) \n",
    "25 freetime - free time after school (numeric: from 1 - very low to 5 - very high) \n",
    "26 goout - going out with friends (numeric: from 1 - very low to 5 - very high) \n",
    "27 Dalc - workday alcohol consumption (numeric: from 1 - very low to 5 - very high) \n",
    "28 Walc - weekend alcohol consumption (numeric: from 1 - very low to 5 - very high) \n",
    "29 health - current health status (numeric: from 1 - very bad to 5 - very good) \n",
    "30 absences - number of school absences (numeric: from 0 to 93) \n",
    "\n",
    "# these grades are related with the course subject, Math or Portuguese: \n",
    "31 G1 - first period grade (numeric: from 0 to 20) \n",
    "31 G2 - second period grade (numeric: from 0 to 20) \n",
    "32 G3 - final grade (numeric: from 0 to 20, output target)\n",
    "\n"
   ]
  },
  {
   "cell_type": "raw",
   "metadata": {},
   "source": [
    "성 정보:\n",
    "- math csv(Math course) 및 publish language csv(포르투갈어 과정) 데이터셋에 대한 속성: \n",
    "1. 학교 - 학생 학교(이중: 'GP' - 가브리엘 페레이라 또는 'MS' - 무신호 다 실베이라) \n",
    "2 성별 - 학생의 성별(이진수: 'F' - 여성 또는 'M' - 남성) \n",
    "3 세 - 학생의 연령(숫자: 15세부터 22세) \n",
    "\n",
    "4 주소 - 학생의 집 주소 유형(이진수: 'U' - 도시 또는 'R' - 시골) \n",
    "5 famsize - 제품군 크기(이진수: 'LE3' - 3 이하 또는 'GT3') - 3보다 큼 \n",
    "6 Pstatus - 부모의 동거 상태(이진수: 'T' - 함께 살거나 'A' - 별거) \n",
    "7 중등 - 어머니의 교육(숫자 0 - 없음, 1차 교육(4학년), 2 – 5 - 9학년, 3 – 3\" 중등 교육 또는 4 –\" 고등 교육) \n",
    "8 빼기 - 아버지의 교육(숫자 0 - 없음, 1 - 초등교육(4학년), 2 - 5 - 9학년, 3 - 3 - 3\" 중등교육 또는 4 -\" 고등교육) \n",
    "9 직업 - 어머니의 일(공칭: '교사', '건강 관리', 민사 '서비스'(예: 행정 또는 경찰), 'at_home' 또는 '기타') \n",
    "10 직장 - 아버지의 직장(예: '교사', '건강 관리', 민사 '서비스', 'at_home' 또는 '기타') \n",
    "\n",
    "11 이유 - 이 학교를 선택해야 하는 이유(예: '가정, 학교 '재직', '과정' 선호 또는 '기타') \n",
    "12 보호자 - 학생의 보호자(명칭: '어머니', '아버지' 또는 '기타') \n",
    "\n",
    "\n",
    "13 여행 시간 - 자택에서 학교까지의 여행 시간(숫자: 1 - 15분, 2 - 15분에서 30분, 3 - 30분, 4 - 1시간) \n",
    "14개의 스터디 시간(숫자: 1 - 2시간, 2 - 2 - 5시간, 3 - 5-10시간 또는 4 - >10시간) \n",
    "15개 실패 - 이전 클래스 실패 횟수(숫자: 1<=n <3> 그 외 4) \n",
    "16개 학교 지원 - 추가 교육 지원(이중: 예 또는 아니오) \n",
    "17 기근 - 가족 교육 지원(2진수: 예, 아니오) \n",
    "18개의 유급 - 코스 주제 내에서 추가 유급 강의(남자 또는 포르투갈어)(2진수: 예 또는 아니오) \n",
    "19개 활동 - 과외 활동(이중: 예 또는 아니오) \n",
    "유아원 20개(이중: 예, 아니오) \n",
    "21명 이상 - 고등 교육을 받고자 함(이진: 예, 아니오) \n",
    "22 인터넷 - 가정에서의 인터넷 접속(2진수: 예, 아니오) \n",
    "23 로맨틱한 관계(이진수: 예, 아니오) \n",
    "24 famrel - 가족 관계 품질(숫자: 1 ~ 매우 불량 ~ 5 - 우수) \n",
    "25 자유시간 - 방과 후 자유 시간(숫자: 1 - 매우 낮은 시간에서 5 - 매우 높음) \n",
    "26 goout - 친구들과 외출(숫자: 1 ~ 매우 낮음 ~ 5 ~ 매우 높음) \n",
    "27 Dalc - 작업일 알코올 소비량(숫자: 1 - 매우 낮음에서 5 - 매우 높음) \n",
    "28 Walc - 주말 알코올 소비량(숫자: 1 ~ 매우 낮음 ~ 5 ~ 매우 높음) \n",
    "29 상태 - 현재 상태(숫자: 1 ~ 5 ~ 매우 양호) \n",
    "30 결석 - 학교 결석 수(숫자: 0 ~ 93) \n",
    "\n",
    "# 이러한 점수는 과정 과목인 수학 또는 포르투갈어와 관련이 있습니다. \n",
    "31 G1 - 1주기 등급(숫자: 0 ~ 20) \n",
    "31 G2 - 2차 등급(숫자: 0 ~ 20) \n",
    "32 G3 - 최종 등급(숫자: 0 ~ 20 출력 목표)"
   ]
  },
  {
   "cell_type": "markdown",
   "metadata": {},
   "source": [
    "### 라이브러리 가져오기"
   ]
  },
  {
   "cell_type": "code",
   "execution_count": 1,
   "metadata": {},
   "outputs": [],
   "source": [
    "# 데이터 분석 라이브러리\n",
    "import numpy as np\n",
    "import pandas as pd\n",
    "\n",
    "# visualization libraries\n",
    "import matplotlib.pyplot as plt\n",
    "import seaborn as sns\n",
    "%matplotlib inline\n",
    "\n"
   ]
  },
  {
   "cell_type": "markdown",
   "metadata": {},
   "source": [
    "### csv 파일 읽기"
   ]
  },
  {
   "cell_type": "code",
   "execution_count": 2,
   "metadata": {},
   "outputs": [],
   "source": [
    "X_train = pd.read_csv('./all/X_train.csv')\n",
    "X_test = pd.read_csv('./all/X_test.csv')\n",
    "y_train = pd.read_csv('./all/y_train.csv')"
   ]
  },
  {
   "cell_type": "code",
   "execution_count": 7,
   "metadata": {
    "scrolled": false
   },
   "outputs": [
    {
     "name": "stdout",
     "output_type": "stream",
     "text": [
      "<class 'pandas.core.frame.DataFrame'>\n",
      "RangeIndex: 264 entries, 0 to 263\n",
      "Data columns (total 31 columns):\n",
      "id            264 non-null int64\n",
      "school        264 non-null object\n",
      "sex           264 non-null object\n",
      "age           264 non-null int64\n",
      "address       264 non-null object\n",
      "famsize       264 non-null object\n",
      "Pstatus       264 non-null object\n",
      "Medu          264 non-null int64\n",
      "Fedu          264 non-null int64\n",
      "Mjob          264 non-null object\n",
      "Fjob          264 non-null object\n",
      "reason        264 non-null object\n",
      "guardian      264 non-null object\n",
      "traveltime    264 non-null int64\n",
      "studytime     264 non-null int64\n",
      "failures      264 non-null int64\n",
      "schoolsup     264 non-null object\n",
      "famsup        264 non-null object\n",
      "paid          264 non-null object\n",
      "activities    264 non-null object\n",
      "nursery       264 non-null object\n",
      "higher        264 non-null object\n",
      "internet      264 non-null object\n",
      "romantic      264 non-null object\n",
      "famrel        264 non-null int64\n",
      "freetime      264 non-null int64\n",
      "goout         264 non-null int64\n",
      "Dalc          264 non-null int64\n",
      "Walc          264 non-null int64\n",
      "health        264 non-null int64\n",
      "absences      264 non-null int64\n",
      "dtypes: int64(14), object(17)\n",
      "memory usage: 64.0+ KB\n"
     ]
    }
   ],
   "source": [
    "X_train.info()"
   ]
  },
  {
   "cell_type": "code",
   "execution_count": 4,
   "metadata": {
    "scrolled": true
   },
   "outputs": [
    {
     "data": {
      "text/html": [
       "<div>\n",
       "<style scoped>\n",
       "    .dataframe tbody tr th:only-of-type {\n",
       "        vertical-align: middle;\n",
       "    }\n",
       "\n",
       "    .dataframe tbody tr th {\n",
       "        vertical-align: top;\n",
       "    }\n",
       "\n",
       "    .dataframe thead th {\n",
       "        text-align: right;\n",
       "    }\n",
       "</style>\n",
       "<table border=\"1\" class=\"dataframe\">\n",
       "  <thead>\n",
       "    <tr style=\"text-align: right;\">\n",
       "      <th></th>\n",
       "      <th>id</th>\n",
       "      <th>G3C</th>\n",
       "    </tr>\n",
       "  </thead>\n",
       "  <tbody>\n",
       "    <tr>\n",
       "      <th>0</th>\n",
       "      <td>310</td>\n",
       "      <td>5</td>\n",
       "    </tr>\n",
       "    <tr>\n",
       "      <th>1</th>\n",
       "      <td>355</td>\n",
       "      <td>3</td>\n",
       "    </tr>\n",
       "    <tr>\n",
       "      <th>2</th>\n",
       "      <td>218</td>\n",
       "      <td>4</td>\n",
       "    </tr>\n",
       "    <tr>\n",
       "      <th>3</th>\n",
       "      <td>88</td>\n",
       "      <td>3</td>\n",
       "    </tr>\n",
       "    <tr>\n",
       "      <th>4</th>\n",
       "      <td>131</td>\n",
       "      <td>5</td>\n",
       "    </tr>\n",
       "  </tbody>\n",
       "</table>\n",
       "</div>"
      ],
      "text/plain": [
       "    id  G3C\n",
       "0  310    5\n",
       "1  355    3\n",
       "2  218    4\n",
       "3   88    3\n",
       "4  131    5"
      ]
     },
     "execution_count": 4,
     "metadata": {},
     "output_type": "execute_result"
    }
   ],
   "source": [
    "y_train.head()"
   ]
  },
  {
   "cell_type": "code",
   "execution_count": 17,
   "metadata": {},
   "outputs": [],
   "source": [
    "X=X_train\n",
    "Y=y_train"
   ]
  },
  {
   "cell_type": "code",
   "execution_count": 15,
   "metadata": {},
   "outputs": [],
   "source": [
    "\n",
    "data = pd.concat([X_train,y_train],axis=1)\n",
    "features = data.columns.values.tolist()\n",
    "features = features[1:len(features)-2]"
   ]
  },
  {
   "cell_type": "code",
   "execution_count": 13,
   "metadata": {},
   "outputs": [],
   "source": [
    "def data_explore(feature):\n",
    "    print(\"*******************\",feature,\"************************\")\n",
    "    print(X[feature].value_counts().sort_values(ascending = False))"
   ]
  },
  {
   "cell_type": "code",
   "execution_count": 16,
   "metadata": {},
   "outputs": [
    {
     "name": "stdout",
     "output_type": "stream",
     "text": [
      "******************* school ************************\n",
      "GP    238\n",
      "MS     26\n",
      "Name: school, dtype: int64\n",
      "******************* sex ************************\n",
      "F    139\n",
      "M    125\n",
      "Name: sex, dtype: int64\n",
      "******************* age ************************\n",
      "17    68\n",
      "16    66\n",
      "15    61\n",
      "18    51\n",
      "19    16\n",
      "20     2\n",
      "Name: age, dtype: int64\n",
      "******************* address ************************\n",
      "U    198\n",
      "R     66\n",
      "Name: address, dtype: int64\n",
      "******************* famsize ************************\n",
      "GT3    184\n",
      "LE3     80\n",
      "Name: famsize, dtype: int64\n",
      "******************* Pstatus ************************\n",
      "T    226\n",
      "A     38\n",
      "Name: Pstatus, dtype: int64\n",
      "******************* Medu ************************\n",
      "4    89\n",
      "2    71\n",
      "3    66\n",
      "1    37\n",
      "0     1\n",
      "Name: Medu, dtype: int64\n",
      "******************* Fedu ************************\n",
      "2    77\n",
      "4    68\n",
      "3    65\n",
      "1    53\n",
      "0     1\n",
      "Name: Fedu, dtype: int64\n",
      "******************* Mjob ************************\n",
      "other       96\n",
      "services    72\n",
      "at_home     38\n",
      "teacher     35\n",
      "health      23\n",
      "Name: Mjob, dtype: int64\n",
      "******************* Fjob ************************\n",
      "other       142\n",
      "services     75\n",
      "teacher      22\n",
      "health       13\n",
      "at_home      12\n",
      "Name: Fjob, dtype: int64\n",
      "******************* reason ************************\n",
      "course        102\n",
      "reputation     68\n",
      "home           68\n",
      "other          26\n",
      "Name: reason, dtype: int64\n",
      "******************* guardian ************************\n",
      "mother    185\n",
      "father     57\n",
      "other      22\n",
      "Name: guardian, dtype: int64\n",
      "******************* traveltime ************************\n",
      "1    178\n",
      "2     67\n",
      "3     13\n",
      "4      6\n",
      "Name: traveltime, dtype: int64\n",
      "******************* studytime ************************\n",
      "2    132\n",
      "1     64\n",
      "3     48\n",
      "4     20\n",
      "Name: studytime, dtype: int64\n",
      "******************* failures ************************\n",
      "0    202\n",
      "1     39\n",
      "2     14\n",
      "3      9\n",
      "Name: failures, dtype: int64\n",
      "******************* schoolsup ************************\n",
      "no     234\n",
      "yes     30\n",
      "Name: schoolsup, dtype: int64\n",
      "******************* famsup ************************\n",
      "yes    160\n",
      "no     104\n",
      "Name: famsup, dtype: int64\n",
      "******************* paid ************************\n",
      "no     146\n",
      "yes    118\n",
      "Name: paid, dtype: int64\n",
      "******************* activities ************************\n",
      "yes    135\n",
      "no     129\n",
      "Name: activities, dtype: int64\n",
      "******************* nursery ************************\n",
      "yes    213\n",
      "no      51\n",
      "Name: nursery, dtype: int64\n",
      "******************* higher ************************\n",
      "yes    251\n",
      "no      13\n",
      "Name: higher, dtype: int64\n",
      "******************* internet ************************\n",
      "yes    219\n",
      "no      45\n",
      "Name: internet, dtype: int64\n",
      "******************* romantic ************************\n",
      "no     175\n",
      "yes     89\n",
      "Name: romantic, dtype: int64\n",
      "******************* famrel ************************\n",
      "4    128\n",
      "5     70\n",
      "3     46\n",
      "2     12\n",
      "1      8\n",
      "Name: famrel, dtype: int64\n",
      "******************* freetime ************************\n",
      "3    110\n",
      "4     69\n",
      "2     48\n",
      "5     27\n",
      "1     10\n",
      "Name: freetime, dtype: int64\n",
      "******************* goout ************************\n",
      "3    85\n",
      "2    70\n",
      "4    58\n",
      "5    36\n",
      "1    15\n",
      "Name: goout, dtype: int64\n",
      "******************* Dalc ************************\n",
      "1    181\n",
      "2     52\n",
      "3     19\n",
      "4      6\n",
      "5      6\n",
      "Name: Dalc, dtype: int64\n",
      "******************* Walc ************************\n",
      "1    98\n",
      "2    57\n",
      "3    54\n",
      "4    35\n",
      "5    20\n",
      "Name: Walc, dtype: int64\n",
      "******************* health ************************\n",
      "5    98\n",
      "3    56\n",
      "4    46\n",
      "2    33\n",
      "1    31\n",
      "Name: health, dtype: int64\n",
      "******************* absences ************************\n",
      "0     82\n",
      "2     40\n",
      "4     34\n",
      "6     20\n",
      "8     14\n",
      "10    13\n",
      "12     8\n",
      "14     7\n",
      "3      6\n",
      "7      6\n",
      "1      3\n",
      "18     3\n",
      "16     3\n",
      "13     3\n",
      "5      2\n",
      "11     2\n",
      "22     2\n",
      "20     2\n",
      "9      2\n",
      "54     1\n",
      "75     1\n",
      "56     1\n",
      "19     1\n",
      "23     1\n",
      "24     1\n",
      "25     1\n",
      "26     1\n",
      "28     1\n",
      "30     1\n",
      "40     1\n",
      "15     1\n",
      "Name: absences, dtype: int64\n"
     ]
    }
   ],
   "source": [
    "for temp in features: \n",
    "    data_explore(temp)"
   ]
  },
  {
   "cell_type": "markdown",
   "metadata": {},
   "source": [
    "### Data analysis results"
   ]
  },
  {
   "cell_type": "raw",
   "metadata": {},
   "source": [
    "#id는 사람 구별 하는 번호\n",
    "id            264 non-null int64\n",
    "\n",
    "#binary --> 0,1로 바꾸쟈\n",
    "school        264 non-null object\n",
    "sex           264 non-null object\n",
    "address       264 non-null object\n",
    "famsize       264 non-null object\n",
    "Pstatus       264 non-null object\n",
    "\n",
    "schoolsup     264 non-null object\n",
    "famsup        264 non-null object\n",
    "paid          264 non-null object\n",
    "activities    264 non-null object\n",
    "nursery       264 non-null object\n",
    "higher        264 non-null object\n",
    "internet      264 non-null object\n",
    "romantic      264 non-null object\n",
    "\n",
    "#연속형 --> category로 바꾼 뒤 --> onehot encoding\n",
    "age           264 non-null int64\n",
    "absences      264 non-null int64\n",
    "\n",
    "#categorical --> object를 int로 바꾼 뒤\n",
    "Mjob          264 non-null object\n",
    "Fjob          264 non-null object\n",
    "reason        264 non-null object\n",
    "guardian      264 non-null object\n",
    "\n",
    "#1,2,3,4\n",
    "traveltime    264 non-null int64\n",
    "studytime     264 non-null int64\n",
    "\n",
    "#0,1,2,3\n",
    "failures      264 non-null int64\n",
    "\n",
    "#0,1,2,3,4\n",
    "Medu          264 non-null int64\n",
    "Fedu          264 non-null int64\n",
    "\n",
    "#1,2,3,4,5\n",
    "famrel        264 non-null int64\n",
    "freetime      264 non-null int64\n",
    "goout         264 non-null int64\n",
    "Dalc          264 non-null int64\n",
    "Walc          264 non-null int64\n",
    "health        264 non-null int64"
   ]
  },
  {
   "cell_type": "markdown",
   "metadata": {},
   "source": [
    "### 그래프를 이용한 데이터 분석"
   ]
  },
  {
   "cell_type": "code",
   "execution_count": 18,
   "metadata": {},
   "outputs": [],
   "source": [
    "import matplotlib.pyplot as plt\n",
    "import seaborn as sns\n",
    "sns.set()"
   ]
  },
  {
   "cell_type": "code",
   "execution_count": 19,
   "metadata": {},
   "outputs": [],
   "source": [
    "def bar_chart(feature) : \n",
    "    ca1 = data[data['G3C']==1][feature].value_counts()\n",
    "    ca2 = data[data['G3C']==2][feature].value_counts()\n",
    "    ca3 = data[data['G3C']==3][feature].value_counts()\n",
    "    ca4 = data[data['G3C']==4][feature].value_counts()\n",
    "    ca5 = data[data['G3C']==5][feature].value_counts()\n",
    "    df=pd.DataFrame([ca1,ca2,ca3,ca4,ca5])\n",
    "    df.index = ['C1','C2','C3','C4','C5']\n",
    "    df.plot(kind = 'bar',title = feature,stacked=True,figsize = (10,5))"
   ]
  },
  {
   "cell_type": "markdown",
   "metadata": {},
   "source": [
    "#### 각 데이터와 y와의 상관관계분석을 위해 barchart를 그려보았다. "
   ]
  },
  {
   "cell_type": "code",
   "execution_count": 20,
   "metadata": {
    "scrolled": false
   },
   "outputs": [
    {
     "name": "stderr",
     "output_type": "stream",
     "text": [
      "C:\\Users\\YOONHOI\\Anaconda3\\lib\\site-packages\\matplotlib\\pyplot.py:513: RuntimeWarning: More than 20 figures have been opened. Figures created through the pyplot interface (`matplotlib.pyplot.figure`) are retained until explicitly closed and may consume too much memory. (To control this warning, see the rcParam `figure.max_open_warning`).\n",
      "  max_open_warning, RuntimeWarning)\n"
     ]
    },
    {
     "data": {
      "image/png": "[encoded data removed]",
      "text/plain": [
       "<Figure size 720x360 with 1 Axes>"
      ]
     },
     "metadata": {},
     "output_type": "display_data"
    },
    {
     "data": {
      "image/png": "[encoded data removed]",
      "text/plain": [
       "<Figure size 720x360 with 1 Axes>"
      ]
     },
     "metadata": {},
     "output_type": "display_data"
    },
    {
     "data": {
      "image/png": "[encoded data removed]",
      "text/plain": [
       "<Figure size 720x360 with 1 Axes>"
      ]
     },
     "metadata": {},
     "output_type": "display_data"
    },
    {
     "data": {
      "image/png": "[encoded data removed]",
      "text/plain": [
       "<Figure size 720x360 with 1 Axes>"
      ]
     },
     "metadata": {},
     "output_type": "display_data"
    },
    {
     "data": {
      "image/png": "[encoded data removed]",
      "text/plain": [
       "<Figure size 720x360 with 1 Axes>"
      ]
     },
     "metadata": {},
     "output_type": "display_data"
    },
    {
     "data": {
      "image/png": "[encoded data removed]",
      "text/plain": [
       "<Figure size 720x360 with 1 Axes>"
      ]
     },
     "metadata": {},
     "output_type": "display_data"
    },
    {
     "data": {
      "image/png": "[encoded data removed]",
      "text/plain": [
       "<Figure size 720x360 with 1 Axes>"
      ]
     },
     "metadata": {},
     "output_type": "display_data"
    },
    {
     "data": {
      "image/png": "[encoded data removed]",
      "text/plain": [
       "<Figure size 720x360 with 1 Axes>"
      ]
     },
     "metadata": {},
     "output_type": "display_data"
    },
    {
     "data": {
      "image/png": "[encoded data removed]",
      "text/plain": [
       "<Figure size 720x360 with 1 Axes>"
      ]
     },
     "metadata": {},
     "output_type": "display_data"
    },
    {
     "data": {
      "image/png": "[encoded data removed]",
      "text/plain": [
       "<Figure size 720x360 with 1 Axes>"
      ]
     },
     "metadata": {},
     "output_type": "display_data"
    },
    {
     "data": {
      "image/png": "[encoded data removed]",
      "text/plain": [
       "<Figure size 720x360 with 1 Axes>"
      ]
     },
     "metadata": {},
     "output_type": "display_data"
    },
    {
     "data": {
      "image/png": "[encoded data removed]",
      "text/plain": [
       "<Figure size 720x360 with 1 Axes>"
      ]
     },
     "metadata": {},
     "output_type": "display_data"
    },
    {
     "data": {
      "image/png": "[encoded data removed]",
      "text/plain": [
       "<Figure size 720x360 with 1 Axes>"
      ]
     },
     "metadata": {},
     "output_type": "display_data"
    },
    {
     "data": {
      "image/png": "[encoded data removed]",
      "text/plain": [
       "<Figure size 720x360 with 1 Axes>"
      ]
     },
     "metadata": {},
     "output_type": "display_data"
    },
    {
     "data": {
      "image/png": "[encoded data removed]",
      "text/plain": [
       "<Figure size 720x360 with 1 Axes>"
      ]
     },
     "metadata": {},
     "output_type": "display_data"
    },
    {
     "data": {
      "image/png": "[encoded data removed]",
      "text/plain": [
       "<Figure size 720x360 with 1 Axes>"
      ]
     },
     "metadata": {},
     "output_type": "display_data"
    },
    {
     "data": {
      "image/png": "[encoded data removed]",
      "text/plain": [
       "<Figure size 720x360 with 1 Axes>"
      ]
     },
     "metadata": {},
     "output_type": "display_data"
    },
    {
     "data": {
      "image/png": "[encoded data removed]",
      "text/plain": [
       "<Figure size 720x360 with 1 Axes>"
      ]
     },
     "metadata": {},
     "output_type": "display_data"
    },
    {
     "data": {
      "image/png": "[encoded data removed]",
      "text/plain": [
       "<Figure size 720x360 with 1 Axes>"
      ]
     },
     "metadata": {},
     "output_type": "display_data"
    },
    {
     "data": {
      "image/png": "[encoded data removed]",
      "text/plain": [
       "<Figure size 720x360 with 1 Axes>"
      ]
     },
     "metadata": {},
     "output_type": "display_data"
    },
    {
     "data": {
      "image/png": "[encoded data removed]",
      "text/plain": [
       "<Figure size 720x360 with 1 Axes>"
      ]
     },
     "metadata": {},
     "output_type": "display_data"
    },
    {
     "data": {
      "image/png": "[encoded data removed]",
      "text/plain": [
       "<Figure size 720x360 with 1 Axes>"
      ]
     },
     "metadata": {},
     "output_type": "display_data"
    },
    {
     "data": {
      "image/png": "[encoded data removed]",
      "text/plain": [
       "<Figure size 720x360 with 1 Axes>"
      ]
     },
     "metadata": {},
     "output_type": "display_data"
    },
    {
     "data": {
      "image/png": "[encoded data removed]",
      "text/plain": [
       "<Figure size 720x360 with 1 Axes>"
      ]
     },
     "metadata": {},
     "output_type": "display_data"
    },
    {
     "data": {
      "image/png": "[encoded data removed]",
      "text/plain": [
       "<Figure size 720x360 with 1 Axes>"
      ]
     },
     "metadata": {},
     "output_type": "display_data"
    },
    {
     "data": {
      "image/png": "[encoded data removed]",
      "text/plain": [
       "<Figure size 720x360 with 1 Axes>"
      ]
     },
     "metadata": {},
     "output_type": "display_data"
    },
    {
     "data": {
      "image/png": "[encoded data removed]",
      "text/plain": [
       "<Figure size 720x360 with 1 Axes>"
      ]
     },
     "metadata": {},
     "output_type": "display_data"
    },
    {
     "data": {
      "image/png": "[encoded data removed]",
      "text/plain": [
       "<Figure size 720x360 with 1 Axes>"
      ]
     },
     "metadata": {},
     "output_type": "display_data"
    },
    {
     "data": {
      "image/png": "[encoded data removed]",
      "text/plain": [
       "<Figure size 720x360 with 1 Axes>"
      ]
     },
     "metadata": {},
     "output_type": "display_data"
    },
    {
     "data": {
      "image/png": "[encoded data removed]",
      "text/plain": [
       "<Figure size 720x360 with 1 Axes>"
      ]
     },
     "metadata": {},
     "output_type": "display_data"
    }
   ],
   "source": [
    "for i in range(len(features)) :\n",
    "    bar_chart(features[i])\n",
    "    "
   ]
  },
  {
   "cell_type": "markdown",
   "metadata": {},
   "source": [
    "## 2. Feature engineeering"
   ]
  },
  {
   "cell_type": "code",
   "execution_count": 21,
   "metadata": {},
   "outputs": [],
   "source": [
    "#function for concatation so that we won't have to repeat them again and again in future.\n",
    "def combine(data1,data2):\n",
    "    fulldf = pd.concat([data1,data2])\n",
    "    return fulldf"
   ]
  },
  {
   "cell_type": "code",
   "execution_count": 22,
   "metadata": {},
   "outputs": [],
   "source": [
    "#Function for separation so that we won't have to repeat them again.\n",
    "def separate(data):\n",
    "    data1 = data.iloc[:len(X_train)]\n",
    "    data2 = data.iloc[len(X_train):]\n",
    "    return data1, data2"
   ]
  },
  {
   "cell_type": "code",
   "execution_count": 23,
   "metadata": {},
   "outputs": [],
   "source": [
    "yesorno = ['schoolsup', 'famsup','paid','activities', 'nursery','higher','internet','romantic']\n",
    "    # multiple categories\n",
    "multi = ['Mjob','Fjob','reason','guardian']"
   ]
  },
  {
   "cell_type": "markdown",
   "metadata": {},
   "source": [
    "#### binary 값을 0,1로 바꿔서 저장"
   ]
  },
  {
   "cell_type": "code",
   "execution_count": 24,
   "metadata": {},
   "outputs": [],
   "source": [
    "def mapping(data1, data2) : \n",
    "    data = combine(data1, data2)\n",
    "    \n",
    "    #binary\n",
    "    data['school'] = data['school'].map({'GP':0, 'MS':1})\n",
    "    data['sex'] = data['sex'].map({'F':0, 'M':1})\n",
    "    data['address'] = data['address'].map({'U':0, 'R':1})\n",
    "    data['famsize'] = data['famsize'].map({'GT3':0, 'LE3':1})\n",
    "    data['Pstatus'] = data['Pstatus'].map({'T':0, 'A':1})\n",
    "    \n",
    "    #yes or no \n",
    "    for attr in yesorno:\n",
    "        data[attr] = data[attr].map({'no':0, 'yes':1})\n",
    "    \n",
    "    data1,data2 = separate(data)\n",
    "    return data1, data2"
   ]
  },
  {
   "cell_type": "code",
   "execution_count": 25,
   "metadata": {},
   "outputs": [],
   "source": [
    "X,X_=mapping(X_train,X_test)"
   ]
  },
  {
   "cell_type": "markdown",
   "metadata": {},
   "source": [
    "### 연속형 범주의 이산형화\n",
    "##### absences, age"
   ]
  },
  {
   "cell_type": "code",
   "execution_count": 26,
   "metadata": {},
   "outputs": [],
   "source": [
    "import numpy as np\n",
    "import pandas as pd\n",
    "from pandas import DataFrame\n"
   ]
  },
  {
   "cell_type": "code",
   "execution_count": 27,
   "metadata": {},
   "outputs": [],
   "source": [
    "def absences_distribution(data1, data2):\n",
    "    data = combine(data1,data2)\n",
    "    data.loc[data['absences']].round()\n",
    "    data.loc[data['absences'] <= 1, 'absence_group'] = 1\n",
    "    data.loc[(data['absences'] > 1) & (data['absences'] <= 3), 'absence_group'] = 2\n",
    "    data.loc[(data['absences'] > 3) & (data['absences'] <= 6), 'absence_group'] = 3\n",
    "    data.loc[(data['absences'] > 6)& (data['absences'] <= 11), 'absence_group'] = 4\n",
    "    data.loc[(data['absences'] > 11), 'absence_group'] = 5\n",
    "    data['absence_group'].astype(int)\n",
    "    data1, data2    = separate(data)\n",
    "    return data1, data2\n"
   ]
  },
  {
   "cell_type": "code",
   "execution_count": 28,
   "metadata": {},
   "outputs": [],
   "source": [
    "def age_distribution(data1, data2):\n",
    "    data = combine(data1,data2)\n",
    "    data.loc[data['age']].round()\n",
    "    data.loc[data['age'] <= 16, 'age_group'] = 1\n",
    "    data.loc[(data['age'] > 16) & (data['age'] <= 18), 'age_group'] = 2\n",
    "    data.loc[(data['age'] > 18), 'age_group'] = 3\n",
    "    data['age_group'].astype(int)\n",
    "    data1, data2    = separate(data)\n",
    "    return data1, data2"
   ]
  },
  {
   "cell_type": "code",
   "execution_count": 29,
   "metadata": {},
   "outputs": [],
   "source": [
    "\n",
    "X, X_= absences_distribution(X,X_)\n",
    "X, X_= age_distribution(X,X_)\n"
   ]
  },
  {
   "cell_type": "markdown",
   "metadata": {},
   "source": [
    "#### categorical -> get_dummies 를 이용, 원핫 코드"
   ]
  },
  {
   "cell_type": "code",
   "execution_count": 30,
   "metadata": {},
   "outputs": [],
   "source": [
    "Mjob_ = pd.get_dummies(X.Mjob,prefix = 'Mjob')\n",
    "Fjob_ = pd.get_dummies(X.Fjob,prefix ='Fjob')\n",
    "reason = pd.get_dummies(X.reason,prefix ='reason')\n",
    "guardian = pd.get_dummies(X.guardian,prefix ='guardian')\n",
    "age = pd.get_dummies(X.age_group,prefix = 'age')\n",
    "absence=pd.get_dummies(X.absence_group,prefix = 'absence')"
   ]
  },
  {
   "cell_type": "code",
   "execution_count": 31,
   "metadata": {
    "scrolled": true
   },
   "outputs": [],
   "source": [
    "X_1 = pd.concat([X,Mjob_],axis =1)\n",
    "X_1 = pd.concat([X_1,Fjob_],axis =1)\n",
    "X_1 = pd.concat([X_1,reason],axis =1)\n",
    "X_1 = pd.concat([X_1,guardian],axis =1)\n",
    "X_1 = pd.concat([X_1,age],axis =1)\n",
    "X_1 = pd.concat([X_1,absence],axis =1)\n"
   ]
  },
  {
   "cell_type": "code",
   "execution_count": 32,
   "metadata": {},
   "outputs": [],
   "source": [
    "Mjob_ = pd.get_dummies(X_.Mjob, prefix = 'Mjob')\n",
    "Fjob_ = pd.get_dummies(X_.Fjob, prefix = 'Fjob')\n",
    "reason = pd.get_dummies(X_.reason, prefix = 'reason')\n",
    "guardian = pd.get_dummies(X_.guardian, prefix = 'guardian')\n",
    "age = pd.get_dummies(X_.age_group,prefix = 'age')\n",
    "absence=pd.get_dummies(X_.absence_group,prefix = 'absence')"
   ]
  },
  {
   "cell_type": "code",
   "execution_count": 33,
   "metadata": {
    "scrolled": true
   },
   "outputs": [],
   "source": [
    "X_2 = pd.concat([X_,Mjob_],axis =1)\n",
    "X_2 = pd.concat([X_2,Fjob_],axis =1)\n",
    "X_2 = pd.concat([X_2,reason],axis =1)\n",
    "X_2 = pd.concat([X_2,guardian],axis =1)\n",
    "X_2 = pd.concat([X_2,age],axis =1)\n",
    "X_2 = pd.concat([X_2,absence],axis =1)"
   ]
  },
  {
   "cell_type": "code",
   "execution_count": 34,
   "metadata": {},
   "outputs": [],
   "source": [
    "for temp in multi : \n",
    "    del X_1[temp]\n",
    "    del X_2[temp]\n",
    "\n",
    "del X_1['age']\n",
    "del X_1['absences']\n",
    "\n",
    "del X_2['age']\n",
    "del X_2['absences']"
   ]
  },
  {
   "cell_type": "code",
   "execution_count": 35,
   "metadata": {},
   "outputs": [],
   "source": [
    "def del_feature(feature):\n",
    "    del X_1[feature]\n",
    "    del X_2[feature]\n",
    "    return X_1, X_2"
   ]
  },
  {
   "cell_type": "markdown",
   "metadata": {},
   "source": [
    "#### X_1,X_2 는 숫자로만 이루어져 있음\n",
    "- X_1 : x_train (feature engineering)\n",
    "- X_2 : x_test (featur engineering)"
   ]
  },
  {
   "cell_type": "markdown",
   "metadata": {},
   "source": [
    "## 3. Splitting the Training Data\n"
   ]
  },
  {
   "cell_type": "code",
   "execution_count": 36,
   "metadata": {
    "scrolled": true
   },
   "outputs": [
    {
     "name": "stdout",
     "output_type": "stream",
     "text": [
      "size of training set: 198,  size of validation set: 66,  size of test set: 131\n"
     ]
    }
   ],
   "source": [
    "from sklearn.model_selection import train_test_split\n",
    "\n",
    "predictors = X_1.iloc[:,1:]\n",
    "test = X_2.iloc[:,1:]\n",
    "target= Y.iloc[:,1]\n",
    "\n",
    "\n",
    "# 데이터셋을 (training +validation), test 로 나눈다. \n",
    "x_train,x_val,y_train,y_val = train_test_split(predictors, target,  random_state =0)\n",
    "\n",
    "print(\"size of training set: %d,  size of validation set: %d,  size of test set: %d\" % (\n",
    "        x_train.shape[0], x_val.shape[0], test.shape[0]))"
   ]
  },
  {
   "cell_type": "markdown",
   "metadata": {},
   "source": [
    "## 4. Comparing Models\n",
    "- Naive Bayes\n",
    "- Decision Trees\n",
    "- k-Nearest Neighbors\n",
    "- SVM"
   ]
  },
  {
   "cell_type": "markdown",
   "metadata": {},
   "source": [
    "#### Gaussian Naive Bayes "
   ]
  },
  {
   "cell_type": "code",
   "execution_count": 38,
   "metadata": {
    "scrolled": true
   },
   "outputs": [
    {
     "name": "stdout",
     "output_type": "stream",
     "text": [
      "7.58\n"
     ]
    }
   ],
   "source": [
    "from sklearn.naive_bayes import GaussianNB\n",
    "from sklearn.metrics import accuracy_score \n",
    "\n",
    "gaussian = GaussianNB()\n",
    "gaussian.fit(x_train,y_train)\n",
    "y_pred=gaussian.predict(x_val)\n",
    "acc_gaussian = round(accuracy_score(y_pred,y_val)*100,2)\n",
    "print(acc_gaussian)"
   ]
  },
  {
   "cell_type": "markdown",
   "metadata": {},
   "source": [
    "####  Logistic Regression"
   ]
  },
  {
   "cell_type": "code",
   "execution_count": 39,
   "metadata": {},
   "outputs": [
    {
     "name": "stdout",
     "output_type": "stream",
     "text": [
      "33.33\n"
     ]
    },
    {
     "name": "stderr",
     "output_type": "stream",
     "text": [
      "C:\\Users\\YOONHOI\\Anaconda3\\lib\\site-packages\\sklearn\\linear_model\\logistic.py:432: FutureWarning: Default solver will be changed to 'lbfgs' in 0.22. Specify a solver to silence this warning.\n",
      "  FutureWarning)\n",
      "C:\\Users\\YOONHOI\\Anaconda3\\lib\\site-packages\\sklearn\\linear_model\\logistic.py:459: FutureWarning: Default multi_class will be changed to 'auto' in 0.22. Specify the multi_class option to silence this warning.\n",
      "  \"this warning.\", FutureWarning)\n"
     ]
    }
   ],
   "source": [
    "from sklearn.linear_model import LogisticRegression\n",
    "\n",
    "logreg = LogisticRegression()\n",
    "logreg.fit(x_train,y_train)\n",
    "y_pred = logreg.predict(x_val)\n",
    "acc_logreg = round(accuracy_score(y_pred,y_val)*100,2)\n",
    "print(acc_logreg)"
   ]
  },
  {
   "cell_type": "markdown",
   "metadata": {},
   "source": [
    "#### Support Vector Machines"
   ]
  },
  {
   "cell_type": "code",
   "execution_count": 40,
   "metadata": {},
   "outputs": [
    {
     "name": "stdout",
     "output_type": "stream",
     "text": [
      "34.85\n"
     ]
    },
    {
     "name": "stderr",
     "output_type": "stream",
     "text": [
      "C:\\Users\\YOONHOI\\Anaconda3\\lib\\site-packages\\sklearn\\svm\\base.py:196: FutureWarning: The default value of gamma will change from 'auto' to 'scale' in version 0.22 to account better for unscaled features. Set gamma explicitly to 'auto' or 'scale' to avoid this warning.\n",
      "  \"avoid this warning.\", FutureWarning)\n"
     ]
    }
   ],
   "source": [
    "from sklearn.svm import SVC\n",
    "\n",
    "svc = SVC()\n",
    "svc.fit(x_train, y_train)\n",
    "y_pred = svc.predict(x_val)\n",
    "acc_svc = round(accuracy_score(y_pred,y_val)*100,2)\n",
    "print(acc_svc)"
   ]
  },
  {
   "cell_type": "markdown",
   "metadata": {},
   "source": [
    "####  Linear SVC"
   ]
  },
  {
   "cell_type": "code",
   "execution_count": 41,
   "metadata": {
    "scrolled": false
   },
   "outputs": [
    {
     "name": "stdout",
     "output_type": "stream",
     "text": [
      "33.33\n"
     ]
    },
    {
     "name": "stderr",
     "output_type": "stream",
     "text": [
      "C:\\Users\\YOONHOI\\Anaconda3\\lib\\site-packages\\sklearn\\svm\\base.py:922: ConvergenceWarning: Liblinear failed to converge, increase the number of iterations.\n",
      "  \"the number of iterations.\", ConvergenceWarning)\n"
     ]
    }
   ],
   "source": [
    "from sklearn.svm import LinearSVC\n",
    "\n",
    "linear_svc = LinearSVC()\n",
    "linear_svc.fit(x_train, y_train)\n",
    "y_pred = linear_svc.predict(x_val)\n",
    "acc_linear_svc = round(accuracy_score(y_pred,y_val)*100,2)\n",
    "print(acc_linear_svc)"
   ]
  },
  {
   "cell_type": "markdown",
   "metadata": {},
   "source": [
    "####  Perceptron"
   ]
  },
  {
   "cell_type": "code",
   "execution_count": 42,
   "metadata": {},
   "outputs": [
    {
     "name": "stdout",
     "output_type": "stream",
     "text": [
      "33.33\n"
     ]
    },
    {
     "name": "stderr",
     "output_type": "stream",
     "text": [
      "C:\\Users\\YOONHOI\\Anaconda3\\lib\\site-packages\\sklearn\\linear_model\\stochastic_gradient.py:144: FutureWarning: max_iter and tol parameters have been added in Perceptron in 0.19. If both are left unset, they default to max_iter=5 and tol=None. If tol is not None, max_iter defaults to max_iter=1000. From 0.21, default max_iter will be 1000, and default tol will be 1e-3.\n",
      "  FutureWarning)\n"
     ]
    }
   ],
   "source": [
    "from sklearn.linear_model import Perceptron\n",
    "\n",
    "perceptron = Perceptron()\n",
    "perceptron.fit(x_train, y_train)\n",
    "y_pred = perceptron.predict(x_val)\n",
    "acc_perceptron = round(accuracy_score(y_pred,y_val)*100,2)\n",
    "print(acc_perceptron)"
   ]
  },
  {
   "cell_type": "markdown",
   "metadata": {},
   "source": [
    "#### Decision Tree"
   ]
  },
  {
   "cell_type": "code",
   "execution_count": 43,
   "metadata": {},
   "outputs": [
    {
     "name": "stdout",
     "output_type": "stream",
     "text": [
      "34.85\n"
     ]
    }
   ],
   "source": [
    "from sklearn.tree import DecisionTreeClassifier\n",
    "\n",
    "decisiontree = DecisionTreeClassifier()\n",
    "decisiontree.fit(x_train,y_train)\n",
    "y_pred = decisiontree.predict(x_val)\n",
    "acc_decisiontree = round(accuracy_score(y_pred,y_val)*100,2)\n",
    "print(acc_decisiontree)"
   ]
  },
  {
   "cell_type": "markdown",
   "metadata": {},
   "source": [
    "#### Rondom Forest "
   ]
  },
  {
   "cell_type": "code",
   "execution_count": 44,
   "metadata": {},
   "outputs": [
    {
     "name": "stdout",
     "output_type": "stream",
     "text": [
      "28.79\n"
     ]
    },
    {
     "name": "stderr",
     "output_type": "stream",
     "text": [
      "C:\\Users\\YOONHOI\\Anaconda3\\lib\\site-packages\\sklearn\\ensemble\\forest.py:248: FutureWarning: The default value of n_estimators will change from 10 in version 0.20 to 100 in 0.22.\n",
      "  \"10 in version 0.20 to 100 in 0.22.\", FutureWarning)\n"
     ]
    }
   ],
   "source": [
    "from sklearn.ensemble import RandomForestClassifier\n",
    "\n",
    "randomforest = RandomForestClassifier()\n",
    "randomforest.fit(x_train, y_train)\n",
    "y_pred = randomforest.predict(x_val)\n",
    "acc_randomforest = round(accuracy_score(y_pred, y_val)*100,2)\n",
    "print(acc_randomforest)"
   ]
  },
  {
   "cell_type": "code",
   "execution_count": 45,
   "metadata": {},
   "outputs": [
    {
     "name": "stdout",
     "output_type": "stream",
     "text": [
      "36.36\n"
     ]
    }
   ],
   "source": [
    "#### kNN or k-Nearest Neighbors\n",
    "from sklearn.neighbors import KNeighborsClassifier\n",
    "\n",
    "knn = KNeighborsClassifier()\n",
    "knn.fit(x_train,y_train)\n",
    "y_pred = knn.predict(x_val)\n",
    "acc_knn = round(accuracy_score(y_pred, y_val)*100,2)\n",
    "print(acc_knn)"
   ]
  },
  {
   "cell_type": "markdown",
   "metadata": {},
   "source": [
    "#### Stochastic Gradient Descent"
   ]
  },
  {
   "cell_type": "code",
   "execution_count": 46,
   "metadata": {},
   "outputs": [
    {
     "name": "stdout",
     "output_type": "stream",
     "text": [
      "36.36\n"
     ]
    },
    {
     "name": "stderr",
     "output_type": "stream",
     "text": [
      "C:\\Users\\YOONHOI\\Anaconda3\\lib\\site-packages\\sklearn\\linear_model\\stochastic_gradient.py:144: FutureWarning: max_iter and tol parameters have been added in SGDClassifier in 0.19. If both are left unset, they default to max_iter=5 and tol=None. If tol is not None, max_iter defaults to max_iter=1000. From 0.21, default max_iter will be 1000, and default tol will be 1e-3.\n",
      "  FutureWarning)\n"
     ]
    }
   ],
   "source": [
    "from sklearn.linear_model import SGDClassifier\n",
    "\n",
    "sgd = SGDClassifier()\n",
    "sgd.fit(x_train, y_train)\n",
    "y_pred = sgd.predict(x_val)\n",
    "acc_sgd =round(accuracy_score(y_pred,y_val)*100,2)\n",
    "print(acc_sgd)"
   ]
  },
  {
   "cell_type": "markdown",
   "metadata": {},
   "source": [
    "#### Gradient Boosting Classifier                                               "
   ]
  },
  {
   "cell_type": "code",
   "execution_count": 47,
   "metadata": {},
   "outputs": [
    {
     "name": "stdout",
     "output_type": "stream",
     "text": [
      "36.36\n"
     ]
    }
   ],
   "source": [
    "from sklearn.ensemble import GradientBoostingClassifier\n",
    "\n",
    "gbk = GradientBoostingClassifier()\n",
    "gbk.fit(x_train,y_train)\n",
    "y_pred = gbk.predict(x_val)\n",
    "acc_gbk = round(accuracy_score(y_pred,y_val)*100,2)\n",
    "print(acc_gbk)"
   ]
  },
  {
   "cell_type": "markdown",
   "metadata": {},
   "source": [
    "#### Compare the accuracies of each model"
   ]
  },
  {
   "cell_type": "code",
   "execution_count": 48,
   "metadata": {
    "scrolled": true
   },
   "outputs": [
    {
     "data": {
      "text/html": [
       "<div>\n",
       "<style scoped>\n",
       "    .dataframe tbody tr th:only-of-type {\n",
       "        vertical-align: middle;\n",
       "    }\n",
       "\n",
       "    .dataframe tbody tr th {\n",
       "        vertical-align: top;\n",
       "    }\n",
       "\n",
       "    .dataframe thead th {\n",
       "        text-align: right;\n",
       "    }\n",
       "</style>\n",
       "<table border=\"1\" class=\"dataframe\">\n",
       "  <thead>\n",
       "    <tr style=\"text-align: right;\">\n",
       "      <th></th>\n",
       "      <th>Model</th>\n",
       "      <th>Score</th>\n",
       "    </tr>\n",
       "  </thead>\n",
       "  <tbody>\n",
       "    <tr>\n",
       "      <th>1</th>\n",
       "      <td>KNN</td>\n",
       "      <td>36.36</td>\n",
       "    </tr>\n",
       "    <tr>\n",
       "      <th>8</th>\n",
       "      <td>Stochastic Gradient Descent</td>\n",
       "      <td>36.36</td>\n",
       "    </tr>\n",
       "    <tr>\n",
       "      <th>9</th>\n",
       "      <td>Gradient Boosting Classifier</td>\n",
       "      <td>36.36</td>\n",
       "    </tr>\n",
       "    <tr>\n",
       "      <th>0</th>\n",
       "      <td>Support Vector Machines</td>\n",
       "      <td>34.85</td>\n",
       "    </tr>\n",
       "    <tr>\n",
       "      <th>7</th>\n",
       "      <td>Decision Tree</td>\n",
       "      <td>34.85</td>\n",
       "    </tr>\n",
       "    <tr>\n",
       "      <th>2</th>\n",
       "      <td>Logistic Regression</td>\n",
       "      <td>33.33</td>\n",
       "    </tr>\n",
       "    <tr>\n",
       "      <th>5</th>\n",
       "      <td>Perceptron</td>\n",
       "      <td>33.33</td>\n",
       "    </tr>\n",
       "    <tr>\n",
       "      <th>6</th>\n",
       "      <td>Linear SVC</td>\n",
       "      <td>33.33</td>\n",
       "    </tr>\n",
       "    <tr>\n",
       "      <th>3</th>\n",
       "      <td>Random Forest</td>\n",
       "      <td>28.79</td>\n",
       "    </tr>\n",
       "    <tr>\n",
       "      <th>4</th>\n",
       "      <td>Naive Bayes</td>\n",
       "      <td>7.58</td>\n",
       "    </tr>\n",
       "  </tbody>\n",
       "</table>\n",
       "</div>"
      ],
      "text/plain": [
       "                          Model  Score\n",
       "1                           KNN  36.36\n",
       "8   Stochastic Gradient Descent  36.36\n",
       "9  Gradient Boosting Classifier  36.36\n",
       "0       Support Vector Machines  34.85\n",
       "7                 Decision Tree  34.85\n",
       "2           Logistic Regression  33.33\n",
       "5                    Perceptron  33.33\n",
       "6                    Linear SVC  33.33\n",
       "3                 Random Forest  28.79\n",
       "4                   Naive Bayes   7.58"
      ]
     },
     "execution_count": 48,
     "metadata": {},
     "output_type": "execute_result"
    }
   ],
   "source": [
    "models = pd.DataFrame({\n",
    "    'Model': ['Support Vector Machines', 'KNN', 'Logistic Regression', \n",
    "              'Random Forest', 'Naive Bayes', 'Perceptron', 'Linear SVC', \n",
    "              'Decision Tree', 'Stochastic Gradient Descent', 'Gradient Boosting Classifier'],\n",
    "    'Score': [acc_svc, acc_knn, acc_logreg, \n",
    "              acc_randomforest, acc_gaussian, acc_perceptron,acc_linear_svc, acc_decisiontree,\n",
    "              acc_sgd, acc_gbk]})\n",
    "models.sort_values(by='Score', ascending=False)"
   ]
  },
  {
   "cell_type": "markdown",
   "metadata": {},
   "source": [
    "# Test with validation set"
   ]
  },
  {
   "cell_type": "code",
   "execution_count": null,
   "metadata": {},
   "outputs": [],
   "source": []
  },
  {
   "cell_type": "code",
   "execution_count": 53,
   "metadata": {},
   "outputs": [
    {
     "name": "stdout",
     "output_type": "stream",
     "text": [
      "최고 점수(모델 정확도): 0.3939393939393939\n",
      "최적 매개변수: {'C': 100, 'gamma': 0.001}\n"
     ]
    }
   ],
   "source": [
    "best_score = 0\n",
    "\n",
    "for gamma in [0.0001, 0.001, 0.01,1 ,10,100]:\n",
    "    for C in [0.0001, 0.001, 0.01,1,10,100]:\n",
    "        # 매개변수 각 조합에 대해 SVC 훈련    \n",
    "        svm = SVC(gamma=gamma, C=C)\n",
    "        \n",
    "        # train set으로 model fitting\n",
    "        svm.fit(x_train, y_train)\n",
    "        \n",
    "        # validation set으로 SVC 평가         \n",
    "        score = svm.score(x_val, y_val) \n",
    "        \n",
    "        # 점수가 더 높으면 기록 \n",
    "        if score > best_score:\n",
    "            best_score = score\n",
    "            best_parameters = {'C': C, 'gamma': gamma}\n",
    "\n",
    "print(\"최고 점수(모델 정확도):\", best_score)\n",
    "print(\"최적 매개변수:\", best_parameters)            "
   ]
  },
  {
   "cell_type": "code",
   "execution_count": 54,
   "metadata": {
    "scrolled": true
   },
   "outputs": [
    {
     "name": "stdout",
     "output_type": "stream",
     "text": [
      "validation set에서 최고 점수:  0.3939393939393939\n",
      "최적 매개변수:  {'C': 100, 'gamma': 0.001}\n"
     ]
    }
   ],
   "source": [
    "# training set과 validation set을 합쳐 모델을 다시 만든 후 \n",
    "# test set을 이용하여 모델을 평가 \n",
    "svm = SVC(**best_parameters)\n",
    "svm.fit(predictors, target)\n",
    "print(\"validation set에서 최고 점수: \", best_score)\n",
    "print(\"최적 매개변수: \", best_parameters)"
   ]
  },
  {
   "cell_type": "markdown",
   "metadata": {},
   "source": [
    "# Test with Cross validation"
   ]
  },
  {
   "cell_type": "code",
   "execution_count": 55,
   "metadata": {},
   "outputs": [],
   "source": [
    "param_grid = {'C':[1,10,100,500,1000]\n",
    "             ,'gamma':[0.0001,0.001,0.01,0.1]}"
   ]
  },
  {
   "cell_type": "code",
   "execution_count": 56,
   "metadata": {
    "scrolled": false
   },
   "outputs": [
    {
     "name": "stdout",
     "output_type": "stream",
     "text": [
      "최적 매개변수 :  {'C': 1, 'gamma': 0.1}\n",
      "최상 교차검증 점수 :  0.4292929292929293\n",
      "최고 성능 모델 :  SVC(C=1, cache_size=200, class_weight=None, coef0=0.0,\n",
      "  decision_function_shape='ovr', degree=3, gamma=0.1, kernel='rbf',\n",
      "  max_iter=-1, probability=False, random_state=None, shrinking=True,\n",
      "  tol=0.001, verbose=False)\n"
     ]
    },
    {
     "name": "stderr",
     "output_type": "stream",
     "text": [
      "C:\\Users\\YOONHOI\\Anaconda3\\lib\\site-packages\\sklearn\\model_selection\\_search.py:841: DeprecationWarning: The default of the `iid` parameter will change from True to False in version 0.22 and will be removed in 0.24. This will change numeric results when test-set sizes are unequal.\n",
      "  DeprecationWarning)\n"
     ]
    }
   ],
   "source": [
    "from sklearn.model_selection import GridSearchCV\n",
    "from sklearn.svm import SVC\n",
    "\n",
    "grid_search = GridSearchCV(SVC(), param_grid, cv=5)\n",
    "\n",
    "# overfitting 방지를 위해 training, test set으로 나눔\n",
    "#x_train, x_test, y_train, y_test = train_test_split(X_1, y, random_state=0)\n",
    "grid_search.fit(x_train, y_train)\n",
    "\n",
    "print(\"최적 매개변수 : \",grid_search.best_params_) \n",
    "print(\"최상 교차검증 점수 : \",grid_search.best_score_)\n",
    "print(\"최고 성능 모델 : \",grid_search.best_estimator_)"
   ]
  },
  {
   "cell_type": "code",
   "execution_count": 57,
   "metadata": {},
   "outputs": [],
   "source": [
    "from sklearn.svm import SVC\n",
    "\n",
    "parameters_svm={'C':1,'kernel':'rbf','gamma':0.1,'random_state':0}\n",
    "\n",
    "svc = SVC(**parameters_svm)\n",
    "svc.fit(predictors, target)\n",
    "y_pred = svc.predict(test)\n"
   ]
  },
  {
   "cell_type": "code",
   "execution_count": 60,
   "metadata": {
    "scrolled": true
   },
   "outputs": [],
   "source": [
    "parameters_svm={'C':1,'kernel':'rbf','gamma':0.1,'random_state':0}\n",
    "\n",
    "clf = SVC(**parameters_svm)\n",
    "clf.fit(predictors,target)\n",
    "prediction = clf.predict(test)\n"
   ]
  },
  {
   "cell_type": "markdown",
   "metadata": {},
   "source": [
    "## submission.csv 만들기"
   ]
  },
  {
   "cell_type": "code",
   "execution_count": 61,
   "metadata": {
    "scrolled": true
   },
   "outputs": [
    {
     "data": {
      "text/plain": [
       "Counter({5: 4, 3: 103, 2: 24})"
      ]
     },
     "execution_count": 61,
     "metadata": {},
     "output_type": "execute_result"
    }
   ],
   "source": [
    "import collections, numpy \n",
    "collections.Counter(prediction)"
   ]
  },
  {
   "cell_type": "code",
   "execution_count": 62,
   "metadata": {},
   "outputs": [],
   "source": [
    "submission = pd.DataFrame({\n",
    "    \"Id\" : X_2['id'],\n",
    "    \"Category\" : prediction\n",
    "})\n",
    "submission.to_csv('submission.csv',index = False)"
   ]
  },
  {
   "cell_type": "markdown",
   "metadata": {},
   "source": [
    "# accuracy  = 0.51145"
   ]
  },
  {
   "cell_type": "code",
   "execution_count": null,
   "metadata": {},
   "outputs": [],
   "source": []
  }
 ],
 "metadata": {
  "kernelspec": {
   "display_name": "Python 3",
   "language": "python",
   "name": "python3"
  },
  "language_info": {
   "codemirror_mode": {
    "name": "ipython",
    "version": 3
   },
   "file_extension": ".py",
   "mimetype": "text/x-python",
   "name": "python",
   "nbconvert_exporter": "python",
   "pygments_lexer": "ipython3",
   "version": "3.6.5"
  }
 },
 "nbformat": 4,
 "nbformat_minor": 2
}
